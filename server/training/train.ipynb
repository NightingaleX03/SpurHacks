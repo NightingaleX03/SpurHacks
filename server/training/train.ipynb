{
 "cells": [
  {
   "cell_type": "code",
   "execution_count": 2,
   "id": "a8176ca2",
   "metadata": {},
   "outputs": [
    {
     "data": {
      "application/vnd.jupyter.widget-view+json": {
       "model_id": "7a331c3b27264c0baff3f2d64026475d",
       "version_major": 2,
       "version_minor": 0
      },
      "text/plain": [
       "model.safetensors:   0%|          | 0.00/2.47G [00:00<?, ?B/s]"
      ]
     },
     "metadata": {},
     "output_type": "display_data"
    },
    {
     "name": "stderr",
     "output_type": "stream",
     "text": [
      "c:\\PersonalCode\\SpurHacks\\server\\venv\\Lib\\site-packages\\huggingface_hub\\file_download.py:143: UserWarning: `huggingface_hub` cache-system uses symlinks by default to efficiently store duplicated files but your machine does not support them in C:\\Users\\rosie_bdklw71\\.cache\\huggingface\\hub\\models--meta-llama--Llama-3.2-1B. Caching files will still work but in a degraded version that might require more space on your disk. This warning can be disabled by setting the `HF_HUB_DISABLE_SYMLINKS_WARNING` environment variable. For more details, see https://huggingface.co/docs/huggingface_hub/how-to-cache#limitations.\n",
      "To support symlinks on Windows, you either need to activate Developer Mode or to run Python as an administrator. In order to activate developer mode, see this article: https://docs.microsoft.com/en-us/windows/apps/get-started/enable-your-device-for-development\n",
      "  warnings.warn(message)\n"
     ]
    },
    {
     "data": {
      "application/vnd.jupyter.widget-view+json": {
       "model_id": "a4567e460484444eb3e09ed73a6a1b04",
       "version_major": 2,
       "version_minor": 0
      },
      "text/plain": [
       "generation_config.json:   0%|          | 0.00/185 [00:00<?, ?B/s]"
      ]
     },
     "metadata": {},
     "output_type": "display_data"
    }
   ],
   "source": [
    "from transformers import AutoTokenizer, AutoModelForCausalLM\n",
    "from torch.optim import AdamW\n",
    "import torch\n",
    "\n",
    "model_name = \"meta-llama/Llama-3.2-1B\"\n",
    "device = \"cuda\" \n",
    "\n",
    "tokenizer = AutoTokenizer.from_pretrained(model_name, use_fast=True)\n",
    "model = AutoModelForCausalLM.from_pretrained(model_name, device_map=device, torch_dtype=torch.bfloat16)"
   ]
  },
  {
   "cell_type": "code",
   "execution_count": 4,
   "id": "a2d7e3f0",
   "metadata": {},
   "outputs": [
    {
     "name": "stdout",
     "output_type": "stream",
     "text": [
      "trainable params: 1,277,952 || all params: 1,237,092,352 || trainable%: 0.1033\n"
     ]
    }
   ],
   "source": [
    "from peft import LoraConfig, get_peft_model\n",
    "\n",
    "lora_config = LoraConfig(\n",
    "    r=12,\n",
    "    lora_alpha=16,\n",
    "    target_modules=[\"q_proj\", \"v_proj\"],\n",
    "    lora_dropout=0.05,\n",
    "    bias=\"none\",\n",
    "    task_type=\"CAUSAL_LM\"\n",
    ")\n",
    "model = get_peft_model(model, lora_config)\n",
    "model.print_trainable_parameters()\n"
   ]
  },
  {
   "cell_type": "code",
   "execution_count": 21,
   "id": "42931290",
   "metadata": {},
   "outputs": [],
   "source": [
    "import json\n",
    "\n",
    "def load_jsonl(file_path):\n",
    "    data = []\n",
    "    with open(file_path, \"r\", encoding=\"utf-8\") as f:\n",
    "        for line in f:\n",
    "            data.append(json.loads(line))\n",
    "    return data\n",
    "\n",
    "data = load_jsonl(\"../resources/alpaca_formatted_data.jsonl\")\n"
   ]
  },
  {
   "cell_type": "code",
   "execution_count": null,
   "id": "32c707f3",
   "metadata": {},
   "outputs": [],
   "source": []
  },
  {
   "cell_type": "code",
   "execution_count": 10,
   "id": "9473bd59",
   "metadata": {},
   "outputs": [],
   "source": [
    "training_prompt = [\n",
    "    {\n",
    "        \"role\": \"system\",\n",
    "        \"content\": (\n",
    "            \"You are a helpful and knowledgeable assistant specialized in generating clear and accurate \"\n",
    "            \"architecture diagrams using Mermaid.js markdown syntax. When given a user's request, your task is to:\\n\\n\"\n",
    "            \"- Understand the user's description, which may be detailed or vague.\\n\"\n",
    "            \"- Suggest one or more appropriate architecture styles, such as monolith, microservices, serverless, or hybrid.\\n\"\n",
    "            \"- Respect any design constraints mentioned, such as specific cloud providers (AWS, Azure, GCP), frameworks, or technologies.\\n\"\n",
    "            \"- Generate valid Mermaid.js markdown code representing the requested architecture or diagrams.\\n\"\n",
    "            \"- Support multiple diagrams if the user asks for alternatives or different styles.\\n\"\n",
    "            \"- Provide diagrams that are clean, well-labeled, and easy to read.\\n\"\n",
    "            \"- Optionally suggest real-time edits or improvements when prompted.\\n\"\n",
    "            \"- Avoid adding any commentary or explanations; respond only with Mermaid markdown code blocks unless otherwise requested.\\n\"\n",
    "            \"- Always wrap your Mermaid diagrams inside triple backticks with the word `mermaid` to ensure proper formatting.\\n\\n\"\n",
    "            \"Example user request: \\\"Design a microservices architecture on AWS for a social media app.\\\"\\n\\n\"\n",
    "            \"Your response should be:\\n\\n\"\n",
    "            \"```mermaid\\n\"\n",
    "            \"graph TD\\n\"\n",
    "            \"    User[User] --> API[API Gateway]\\n\"\n",
    "            \"    API --> Auth[Auth Service (Lambda)]\\n\"\n",
    "            \"    API --> Post[Post Service (ECS)]\\n\"\n",
    "            \"    API --> Media[Media Service (S3)]\\n\"\n",
    "            \"    Auth --> DynamoDB[DynamoDB]\\n\"\n",
    "            \"    Post --> RDS[RDS]\\n\"\n",
    "            \"```\"\n",
    "        )\n",
    "    },\n",
    "    {\n",
    "        \"role\": \"user\",\n",
    "        \"content\": \"Design a microservices architecture on AWS for a social media app.\"\n",
    "    },\n",
    "    {\n",
    "        \"role\": \"assistant\",\n",
    "        \"content\": (\n",
    "            \"```mermaid\\n\"\n",
    "            \"graph TD\\n\"\n",
    "            \"    User[User] --> API[API Gateway]\\n\"\n",
    "            \"    API --> Auth[Auth Service (Lambda)]\\n\"\n",
    "            \"    API --> Post[Post Service (ECS)]\\n\"\n",
    "            \"    API --> Media[Media Service (S3)]\\n\"\n",
    "            \"    Auth --> DynamoDB[DynamoDB]\\n\"\n",
    "            \"    Post --> RDS[RDS]\\n\"\n",
    "            \"```\"\n",
    "        )\n",
    "    }\n",
    "]\n",
    "\n",
    "target_response = training_prompt[-1][\"content\"]\n"
   ]
  },
  {
   "cell_type": "code",
   "execution_count": null,
   "id": "de88dc63",
   "metadata": {},
   "outputs": [],
   "source": []
  },
  {
   "cell_type": "code",
   "execution_count": null,
   "id": "54c21d5a",
   "metadata": {},
   "outputs": [],
   "source": []
  }
 ],
 "metadata": {
  "kernelspec": {
   "display_name": "venv",
   "language": "python",
   "name": "python3"
  },
  "language_info": {
   "codemirror_mode": {
    "name": "ipython",
    "version": 3
   },
   "file_extension": ".py",
   "mimetype": "text/x-python",
   "name": "python",
   "nbconvert_exporter": "python",
   "pygments_lexer": "ipython3",
   "version": "3.13.5"
  }
 },
 "nbformat": 4,
 "nbformat_minor": 5
}
